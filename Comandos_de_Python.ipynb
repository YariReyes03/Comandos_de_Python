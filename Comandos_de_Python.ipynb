{
  "cells": [
    {
      "cell_type": "markdown",
      "metadata": {
        "id": "view-in-github",
        "colab_type": "text"
      },
      "source": [
        "<a href=\"https://colab.research.google.com/github/YariReyes03/Comandos_de_Python/blob/main/Comandos_de_Python.ipynb\" target=\"_parent\"><img src=\"https://colab.research.google.com/assets/colab-badge.svg\" alt=\"Open In Colab\"/></a>"
      ]
    },
    {
      "cell_type": "markdown",
      "metadata": {
        "id": "9wL1sbrUAubg"
      },
      "source": [
        "**ALCANCES.**\n",
        "Cuando se busca una una referencia no asignada con un nombre, Python intenta encontrarla por todo el espacio de nombres. Existen cuatro diferentes ámbitos; se inicia por el local, continúa en el ámbito adjunto, seguido del ámbito global y finzalizaría en el alcance integrado.\n"
      ]
    },
    {
      "cell_type": "markdown",
      "metadata": {
        "id": "FZM7WFz-B66o"
      },
      "source": [
        "En la línea de código siguiente inicialmente se analiza la función definida como *enclosing*, cuando se llama a la función  se configura un nombre para el objeto que contiene el número 13. En la siguiente línea hay una llamada ***función local*** donde m no esta definido en la función en sí, por lo que Python comienza a recorrer los ambitos siguientes: aquí **m** se encuentra en el ámbito adjunto"
      ]
    },
    {
      "cell_type": "code",
      "execution_count": null,
      "metadata": {
        "colab": {
          "base_uri": "https://localhost:8080/"
        },
        "id": "bXpT7Fya_UEr",
        "outputId": "137dcf59-3b8f-4219-fc8d-a3ee65e4eee3"
      },
      "outputs": [
        {
          "name": "stdout",
          "output_type": "stream",
          "text": [
            "5 printing from the global scope\n",
            "13 printing from the local scope\n"
          ]
        }
      ],
      "source": [
        "def enclosing_func():\n",
        "    m = 13\n",
        "    def local():\n",
        "# m no tiene al alcance definido por la función local\n",
        "# Python sigue buscando en el ambito adjunto\n",
        "\n",
        "#Se encuentra en el alcance adjunto.\n",
        "      print(m, 'printing from the local scope')\n",
        "# Llamando a la función local\n",
        "    local()\n",
        "m = 5\n",
        "print(m, 'printing from the global scope')\n",
        "enclosing_func()"
      ]
    },
    {
      "cell_type": "markdown",
      "metadata": {
        "id": "p8cA9om6GpvZ"
      },
      "source": [
        "**Objetos y clases.**\n",
        "Los objetos son instancias de clases. Las clases son objetos en sí mismas.\n",
        "Las clases se utilizan para crear objetos"
      ]
    },
    {
      "cell_type": "markdown",
      "metadata": {
        "id": "-KikKJR1Jg6L"
      },
      "source": [
        "Se codifica una clase definida como bicicleta y se crean dos bicicletas; una roja y una azul."
      ]
    },
    {
      "cell_type": "code",
      "execution_count": null,
      "metadata": {
        "colab": {
          "base_uri": "https://localhost:8080/"
        },
        "id": "Zq-ID7vmHeeF",
        "outputId": "d2e06148-aef8-40bf-afb9-140ab9b3a4c4"
      },
      "outputs": [
        {
          "name": "stdout",
          "output_type": "stream",
          "text": [
            "Red\n",
            "Fibra de carbono\n",
            "Blue\n",
            "Acero\n",
            "Frenando\n"
          ]
        }
      ],
      "source": [
        "class Bike:\n",
        "\n",
        "    def __init__(self, color, material):   #INIT esl primer método es un inicializador; configura los objetos con los valores\n",
        "        self.color = color\n",
        "        self.material = material\n",
        "\n",
        "    def brake(self):  #Segundo método, con una declaración impresa\n",
        "        print(\"Frenando\")\n",
        "\n",
        "#Se crean dos instancias\n",
        "red_bike = Bike(\"Red\", \"Fibra de carbono\")\n",
        "blue_bike = Bike(\"Blue\", \"Acero\")\n",
        "\n",
        "#Inspección de objetos en las instancias de la clase\n",
        "#El operador punto(.) es el medio que se utiliza para acceder al espacio de nombres\n",
        "print(red_bike.color)       #Imprime rojo\n",
        "print(red_bike.material)    #Imprime fibra de carbono\n",
        "print(blue_bike.color)      #Imprime azul\n",
        "print(blue_bike.material)   #Imprime acero\n",
        "\n",
        "#Ejecutar frenar\n",
        "red_bike.brake()  #imprime frenando"
      ]
    },
    {
      "cell_type": "markdown",
      "metadata": {
        "id": "d0iTP0PIKssS"
      },
      "source": [
        "***TIPOS DE DATOS INTEGRADOS.***\n",
        "\n",
        "**Mutable o inmutable.**\n",
        "La primera distinción fundamental que hace Python sobre los datos es si el valor de un objeto puede cambiar o no."
      ]
    },
    {
      "cell_type": "code",
      "execution_count": null,
      "metadata": {
        "colab": {
          "base_uri": "https://localhost:8080/"
        },
        "id": "n3t5N0F0LoXL",
        "outputId": "74e296ca-414e-4e57-b2cb-3b55d0437c77"
      },
      "outputs": [
        {
          "data": {
            "text/plain": [
              "42"
            ]
          },
          "execution_count": 18,
          "metadata": {},
          "output_type": "execute_result"
        }
      ],
      "source": [
        "class Person:                         #Clase Persona (clase personalizada) que tiene como propiedad \"edad\"\n",
        "      def __init__(self, age):\n",
        "          self.age = age\n",
        "\n",
        "fab = Person(age=42)    #Se crea un objeto y se le asigna la edad de 42 años\n",
        "fab.age     #Se imprime"
      ]
    },
    {
      "cell_type": "code",
      "execution_count": null,
      "metadata": {
        "colab": {
          "base_uri": "https://localhost:8080/"
        },
        "id": "_KAtEpz_cDQ6",
        "outputId": "f59c03a6-4567-4433-b300-7b3ce2983c80"
      },
      "outputs": [
        {
          "data": {
            "text/plain": [
              "137677713663424"
            ]
          },
          "execution_count": 19,
          "metadata": {},
          "output_type": "execute_result"
        }
      ],
      "source": [
        "id(fab)"
      ]
    },
    {
      "cell_type": "code",
      "execution_count": null,
      "metadata": {
        "colab": {
          "base_uri": "https://localhost:8080/"
        },
        "id": "gPJ_S2MZcIN2",
        "outputId": "f8a56c9f-258e-448b-d1ee-54516b9f1923"
      },
      "outputs": [
        {
          "data": {
            "text/plain": [
              "137678141670928"
            ]
          },
          "execution_count": 20,
          "metadata": {},
          "output_type": "execute_result"
        }
      ],
      "source": [
        "id(fab.age)"
      ]
    },
    {
      "cell_type": "code",
      "execution_count": null,
      "metadata": {
        "colab": {
          "base_uri": "https://localhost:8080/"
        },
        "id": "2tXvIDC_cOGG",
        "outputId": "4a063a40-16f0-45a4-b5bf-794de659fcb6"
      },
      "outputs": [
        {
          "data": {
            "text/plain": [
              "137677713663424"
            ]
          },
          "execution_count": 21,
          "metadata": {},
          "output_type": "execute_result"
        }
      ],
      "source": [
        "fab.age = 25    #Se cambia la edad a 25\n",
        "id(fab)         #ID objeto"
      ]
    },
    {
      "cell_type": "code",
      "execution_count": null,
      "metadata": {
        "colab": {
          "base_uri": "https://localhost:8080/"
        },
        "id": "VOTDMtzjcYQo",
        "outputId": "cc120c22-5848-4d53-e750-2aa395e41bc0"
      },
      "outputs": [
        {
          "data": {
            "text/plain": [
              "137678141670384"
            ]
          },
          "execution_count": 22,
          "metadata": {},
          "output_type": "execute_result"
        }
      ],
      "source": [
        "id(fab.age)     #ID de la edad"
      ]
    },
    {
      "cell_type": "markdown",
      "metadata": {
        "id": "pd0m5TeGMzix"
      },
      "source": [
        "El ID de fab permanece igual (mientras que el ID de edad ha cambiado). Los objetos personalizados en Python son mutables (a menos de que se codifique que no lo sean)"
      ]
    },
    {
      "cell_type": "markdown",
      "metadata": {
        "id": "yEtcvQaoXLtf"
      },
      "source": [
        "**SECUENCIAS INMUTABLES**\n",
        "\n",
        "**Cadenas y bytes.**Los objetos textuales se manejan con *objetos str*.\n",
        "El resultado de una codificación produce un objeto de *bytes*, cuya sintaxis y comportamiento es similar al de las cadenas. Se escriben usando comillas dobles."
      ]
    },
    {
      "cell_type": "markdown",
      "metadata": {
        "id": "5vCtBrtAYprD"
      },
      "source": [
        "**Indexación y corte de cadenas.** Al manipular secuencias, es común acceder en una posición precisa (indexación) u obtener una subsecuencia de ellas (corte)"
      ]
    },
    {
      "cell_type": "code",
      "execution_count": null,
      "metadata": {
        "colab": {
          "base_uri": "https://localhost:8080/",
          "height": 35
        },
        "id": "bnnyk1sDZPm2",
        "outputId": "c881eba7-d915-4479-f48f-d530882b652e"
      },
      "outputs": [
        {
          "data": {
            "application/vnd.google.colaboratory.intrinsic+json": {
              "type": "string"
            },
            "text/plain": [
              "'E'"
            ]
          },
          "execution_count": 23,
          "metadata": {},
          "output_type": "execute_result"
        }
      ],
      "source": [
        "s = \"El problema es que crees que tienes tiempo\"\n",
        "s[0]    #Indexación en posición cero\n",
        "#s[5]    #Indexación en posicion cinco, que es el sexto caracter\n",
        "#s[:4]   #corte, especificamos la posicion de parada\n",
        "#s[2:14] #Corte; posicion de inicio y parada\n",
        "#s[2:14:3] #Corte; inicio, parada y paso(cada 3 caracteres)"
      ]
    },
    {
      "cell_type": "markdown",
      "metadata": {
        "id": "etiEdlimk8yg"
      },
      "source": [
        "**CHAINMAP** Se proporciona para vincular rápidamente una serie de asignaciones que puedan tratarse como una sola unidad. Se puede utilizar para simular ámbitos anidados, las asignaciones subyacentes se almacenan en una lista, la cual es pública y se puede acceder para actualizarla."
      ]
    },
    {
      "cell_type": "code",
      "execution_count": null,
      "metadata": {
        "colab": {
          "base_uri": "https://localhost:8080/"
        },
        "id": "H3hWIHHomz8X",
        "outputId": "a25c2075-443b-4e38-b1fa-456c0be5dadd"
      },
      "outputs": [
        {
          "data": {
            "text/plain": [
              "{'host': 'packtpub.com', 'port': 4567}"
            ]
          },
          "execution_count": 55,
          "metadata": {},
          "output_type": "execute_result"
        }
      ],
      "source": [
        "from collections import ChainMap    #Importamos Chainmap de el modulo collections\n",
        "default_connection = {'host': 'localhost', 'port': 4567}    #Conexión por defecto\n",
        "connection = {'port': 5678}\n",
        "conn = ChainMap(connection, default_connection) # Creacion del mapa\n",
        "conn['port'] # el valor 'port' esta en el primer diccionario\n",
        "\n",
        "conn['host'] # el valor 'host' se encuentra en el segundo diccionionario\n",
        "'localhost'\n",
        "conn.maps #Objetos de mapeo tipo resumen\n",
        "[{'port': 5678}, {'host': 'localhost', 'port': 4567}]\n",
        "conn['host'] = 'packtpub.com' #Agregamos un nuevo 'host'\n",
        "conn.maps\n",
        "[{'port': 5678, 'host': 'packtpub.com'},\n",
        "{'host': 'localhost', 'port': 4567}]\n",
        "del conn['port'] #Eliminamos la información de 'port'\n",
        "conn.maps\n",
        "[{'host': 'packtpub.com'}, {'host': 'localhost', 'port': 4567}]\n",
        "conn['port'] #El valor de 'port' nuevamente agregado se encuentra en el segundo diccionario\n",
        "4567\n",
        "dict(conn) #Se convierte a un diccionario regular\n",
        "{'host': 'packtpub.com', 'port': 4567}"
      ]
    },
    {
      "cell_type": "markdown",
      "metadata": {
        "id": "q3crKvcIp7Ct"
      },
      "source": [
        "***COMO ELEGIR ESTRUCTURAS DE DATOS.***\n",
        "\n",
        "Si tenemos una colección que nunca se reproduce ni crece(no es necesario eliminar/agregar ningun objeto)."
      ]
    },
    {
      "cell_type": "code",
      "execution_count": null,
      "metadata": {
        "id": "atZut_aZqVU9"
      },
      "outputs": [],
      "source": [
        "#Objetos de cliente\n",
        "customer1 = {'id': 'abc123', 'full_name': 'Master Yoda'}\n",
        "customer2 = {'id': 'def456', 'full_name': 'Obi-Wan Kenobi'}\n",
        "customer3 = {'id': 'ghi789', 'full_name': 'Anakin Skywalker'}\n",
        "#colección en una tupla\n",
        "#coleccion ordenada\n",
        "customers = (customer1, customer2, customer3)\n",
        "#coleccion en una lista\n",
        "#coleccion ordenada\n",
        "customers = [customer1, customer2, customer3]\n",
        "#coleccion en un diccionario, todos tienen una identificación unica\n",
        "#perderá el orden\n",
        "#no se puede utilizar si no tenemos la garantía de que podemos identificar de forma única cada elemento de la coleccion mediante una de sus propiedades\n",
        "customers = {\n",
        "'abc123': customer1,\n",
        "'def456': customer2,\n",
        "'ghi789': customer3,\n",
        "}"
      ]
    },
    {
      "cell_type": "markdown",
      "metadata": {
        "id": "l53Fm2bhrSpP"
      },
      "source": [
        "***CONDICIONALES E ITERACIÓN***\n",
        "\n",
        "**Programación condicional.** Evaluar condiciones, la principal sentencia es *if*\n",
        "\n",
        "**Un else especializado:** *elif.* Hay situaciones en las que es posible tener mas de dos caminos para elegir."
      ]
    },
    {
      "cell_type": "code",
      "execution_count": null,
      "metadata": {
        "id": "tN6Iv74HsyIs"
      },
      "outputs": [],
      "source": [
        "income = 15000    ##Resultado de impuestos\n",
        "if income < 10000:    ##Si es menos a\n",
        "  tax_coefficient = 0.0 #No paga impuesto\n",
        "elif income < 30000:  #entre 10000 y 30000\n",
        "  tax_coefficient = 0.2 #paga el 20% en impuestos\n",
        "elif income < 100000:   #si esta entre 30000 y 100000\n",
        "  tax_coefficient = 0.35 #paga el 35%\n",
        "else:\n",
        "  tax_coefficient = 0.45 #si gana mas de 100000, paga el 45%\n",
        "print(f'You will pay: ${income * tax_coefficient} in taxes')"
      ]
    },
    {
      "cell_type": "markdown",
      "metadata": {
        "id": "01G8ykhytmNm"
      },
      "source": [
        "**Bucle for**\n",
        "Recorre una secuencia de objetos sobre un rango o secuencia, o incluso multiples secuencias."
      ]
    },
    {
      "cell_type": "code",
      "execution_count": null,
      "metadata": {
        "colab": {
          "base_uri": "https://localhost:8080/"
        },
        "id": "FLJWU7MUt30q",
        "outputId": "70553faa-9a39-49d3-f2b7-89bc406d3bc4"
      },
      "outputs": [
        {
          "name": "stdout",
          "output_type": "stream",
          "text": [
            "Nick 23 Drums\n",
            "Rick 24 Keyboards\n",
            "Roger 23 Bass\n",
            "Syd 21 Guitar\n"
          ]
        }
      ],
      "source": [
        "#Se itera sobre las secuencias\n",
        "people = ['Nick', 'Rick', 'Roger', 'Syd']\n",
        "ages = [23, 24, 23, 21]\n",
        "instruments = ['Drums', 'Keyboards', 'Bass', 'Guitar']\n",
        "#Itera y devuelve cada elemento en el orden de la iteracion\n",
        "for person, age, instruments in zip(people, ages, instruments):\n",
        "  print(person, age, instruments)"
      ]
    },
    {
      "cell_type": "markdown",
      "metadata": {
        "id": "VrkP8ZCvvXUd"
      },
      "source": [
        "***Bucle while.***\n",
        "No recorre una secuencia, es necesario escribir la lógica manualmente. Se repite siempre que se cumpla una condicion, cuando deja de cumplirse, el ciclo finaliza. Ó tomando en cuenta que estamos recorriendo una serie y hemos encontrado el elemento necesario y/o en su defecto, no esta en la secuencia, el comando \"break\" rompe el ciclo."
      ]
    },
    {
      "cell_type": "code",
      "execution_count": null,
      "metadata": {
        "colab": {
          "base_uri": "https://localhost:8080/"
        },
        "id": "-tW5Uhndvz88",
        "outputId": "7ba6bf29-2736-4a88-b30b-f8375a7f2c11"
      },
      "outputs": [
        {
          "name": "stdout",
          "output_type": "stream",
          "text": [
            "Driver not found.\n"
          ]
        }
      ],
      "source": [
        "class DriverException(Exception):  #Se crea la clase para reconocer las excepciones de conductor\n",
        "    pass\n",
        "people = [('James', 17), ('Kirk', 9), ('Lars', 13), ('Robert', 8)]  #Se ingresa la lista de nombre y edad\n",
        "for person, age in people:    #Bucle para recorrer la secuencia\n",
        "  if age >= 18:       #Condición de edad mayor a 18\n",
        "    driver = (person, age)    #Parametros del objeto conductor\n",
        "    break   #Quiebre dek ciclo\n",
        "else:\n",
        "       print(DriverException('Driver not found.'))      #Imoresión del resultado"
      ]
    },
    {
      "cell_type": "markdown",
      "metadata": {
        "id": "7NMyfSM5Hsqg"
      },
      "source": [
        "**FUNCIONES; BLOQUES DE CÓDIGO.**\n",
        "\n",
        "Secuencia de instrucciones agrupadas como unidad que reducen la duplicación, divide las tareas complejas, ocultan detalles de implementación, mejoran la legibilidad y trazabilidad"
      ]
    },
    {
      "cell_type": "code",
      "execution_count": null,
      "metadata": {
        "id": "lUcIfbe7J9Bl"
      },
      "outputs": [],
      "source": [
        "def connect(**options):  #Definicion de la función donde se va a recopilar una cantidad variable de palabras clave.\n",
        "    conn_params = {   #Preparamos un diccionario de parámetros de conexión\n",
        "        'host': options.get('host', '127.0.0.1'),\n",
        "        'port': options.get('port', 5432),\n",
        "        'user': options.get('user', ''),\n",
        "        'pwd': options.get('pwd', ''),\n",
        "    }\n",
        "    print(conn_params)    #Imprimir diccionario\n",
        "# Nos conectamos a la base de datos\n",
        "# db.connect(**conn_params)\n",
        "connect()\n",
        "connect(host='127.0.0.42', port=5433)\n",
        "connect(port=5431, user='fab', pwd='gandalf')"
      ]
    },
    {
      "cell_type": "code",
      "execution_count": null,
      "metadata": {
        "id": "pnpvigD4M2tI"
      },
      "outputs": [],
      "source": [
        "from math import sqrt, ceil\n",
        "def get_primes(n):    #Función para generar una lista de numeros primos hasta un límite\n",
        "##Calcular una lista de numeros primos hasta n.\n",
        "    primelist = []\n",
        "    for candidate in range(2, n + 1):   #Inicio del bucle con\n",
        "        is_prime = True   #Asignacion\n",
        "        root = ceil(sqrt(candidate)) #limite de division\n",
        "        for prime in primelist ##Iniciamos solo con numeros primos\n",
        "            if prime > root: # no es necesario realizar mas comprobaciones\n",
        "                break\n",
        "            if candidate % prime == 0:  #Tiene que ser diferente de cero\n",
        "                is_prime = False      #Condición\n",
        "                break   #Romper ciclo\n",
        "        if is_prime:        #Condición si es primo\n",
        "            primelist.append(candidate)   #Se abre y agrega a la lista de candidatos.\n",
        "    return primelist"
      ]
    },
    {
      "cell_type": "markdown",
      "metadata": {
        "id": "5TY4pbCpZVi2"
      },
      "source": [
        "***Persistencia de archivos y datos.***\n",
        "La codificación tiene un objetivo más alla de la impresión de pantalla de algun resultado. Las aplicaciones en el mundo real son mas interesantes.\n",
        "\n",
        "**Leer y escribir en un archivo.**"
      ]
    },
    {
      "cell_type": "code",
      "execution_count": null,
      "metadata": {
        "id": "DxpqdpLvatLX"
      },
      "outputs": [],
      "source": [
        "with open('fear.txt') as f:   #Abrimos el archivo\n",
        "#El método rstrip() es para asegurarnos que solo eliminamos el espacio en blanco del lado derecho de cada linea\n",
        "    lines = [line.rstrip() for line in f]   #Recopilamos su contenido en una lista linea por linea\n",
        "with open('fear_copy.txt', 'w') as fw:    #Se crea un nuevo archivo\n",
        "    fw.write('\\n'.join(lines))    #Se escriben las líneas del archivo original, unidas por una nueva linea"
      ]
    },
    {
      "cell_type": "markdown",
      "metadata": {
        "id": "WuK59Z-kcg2E"
      },
      "source": [
        "**MANIPULACIÓN DE ARCHIVOS Y DIRECTORIOS.**"
      ]
    },
    {
      "cell_type": "code",
      "execution_count": null,
      "metadata": {
        "id": "Yt4xcTiVclpj"
      },
      "outputs": [],
      "source": [
        "from collections import Counter\n",
        "from string import ascii_letters\n",
        "chars = ascii_letters + ' '\n",
        "#Funciones para eliminar cualquier cosa que no sea una letra o espacio de una cadena\n",
        "#Producir la copia invertida de una cadena\n",
        "def sanitize(s, chars):\n",
        "    return ''.join(c for c in s if c in chars)\n",
        "def reverse(s):\n",
        "    return s[::-1]\n",
        "with open('fear.txt') as stream:    #Abrimos el archivo\n",
        "    lines = [line.rstrip() for line in stream]    #Leer contenido en una lista\n",
        "#Se escribe todo el contenido de lineas con el JOIN en un caracter de nueva línea\n",
        "with open('raef.txt', 'w') as stream:\n",
        "    stream.write('\\n'.join(reverse(line) for line in lines))\n",
        "#Reasignamos nuevas líneas a una versión nueva y juntamos todas las líneas en toda la cadena\n",
        "lines = [sanitize(line, chars) for line in lines]\n",
        "whole = ' '.join(lines)\n",
        "#Cada palabra será contada independientemente\n",
        "#SPLIT() ayuda a olvidarse de los espacios extra\n",
        "cnt = Counter(whole.lower().split())\n",
        "#Se imprimen las 3 palabras mas comunes.\n",
        "print(cnt.most_common(3))"
      ]
    },
    {
      "cell_type": "markdown",
      "metadata": {
        "id": "XjOgbHR3ebwP"
      },
      "source": [
        "COMPRESIÓN DE ARCHIVOS Y DIRECTORIOS."
      ]
    },
    {
      "cell_type": "code",
      "execution_count": null,
      "metadata": {
        "id": "VWucW4aQefIe"
      },
      "outputs": [],
      "source": [
        "from zipfile import ZipFile   #Importamos ZipFile\n",
        "with ZipFile('example.zip', 'w') as zp:   #Se escriben cuatro archivos\n",
        "  zp.write('content1.txt')\n",
        "  zp.write('content2.txt')\n",
        "  #Dos se encuentran en una subcarpeta\n",
        "  zp.write('subfolder/content3.txt')\n",
        "  zp.write('subfolder/content4.txt')\n",
        "  #Abrimos el archivo comprimido y extraemos dos archivos\n",
        "with ZipFile('example.zip') as zp:\n",
        "  zp.extract('content1.txt', 'extract_zip')\n",
        "  zp.extract('subfolder/content3.txt', 'extract_zip')"
      ]
    },
    {
      "cell_type": "markdown",
      "metadata": {
        "id": "l-hSDGx6fq7q"
      },
      "source": [
        "**TRABAJAR CON JSON.**\n",
        "Se basa en dos estructuras: una colección de pares de nombre/valor y una lista ordenada de valores. Estos valores se asignan a los tipos de datos *dict* y *list*."
      ]
    },
    {
      "cell_type": "code",
      "execution_count": null,
      "metadata": {
        "colab": {
          "background_save": true
        },
        "id": "F4rKOTYXgIh2",
        "outputId": "6efa3e77-6a4b-4125-afae-2c06a9738b8e"
      },
      "outputs": [
        {
          "name": "stdout",
          "output_type": "stream",
          "text": [
            "{\"an_int\": 42, \"a_float\": 3.14159265, \"a_datetime\": {\"_meta\": \"_datetime\", \"data\": [2023, 9, 17, 23, 54, 34, 477971], \"utcoffset\": null}, \"a_datetime_tz\": {\"_meta\": \"_datetime\", \"data\": [2023, 9, 18, 0, 54, 34, 478061], \"utcoffset\": 3600}}\n"
          ]
        }
      ],
      "source": [
        "import json\n",
        "from datetime import datetime, timedelta, timezone\n",
        " #Obteniendo info de fecha y hora\n",
        "now = datetime.now()\n",
        "#Reconocimiento de zona horaria\n",
        "now_tz = datetime.now(tz=timezone(timedelta(hours=1)))\n",
        "class DatetimeEncoder(json.JSONEncoder):  #Codificador personalizado\n",
        "  def default(self, obj):\n",
        "    if isinstance(obj, datetime):   #Importante como obtenemos la información de desplazamiento\n",
        "        try:\n",
        "          off = obj.utcoffset().seconds   #Zona horaria en segundos\n",
        "        except AttributeError:\n",
        "          off = None\n",
        "        return {      #Estrucutra del diccionario que devuelve los datos\n",
        "                '_meta': '_datetime',\n",
        "                      #Guardamos los primeros 6 elementos (año, mes, dia, hora, minuto y segundo) y los microsegundos\n",
        "                'data': obj.timetuple()[:6] + (obj.microsecond, ),\n",
        "                'utcoffset': off,\n",
        "}\n",
        "    return super().default(obj)\n",
        "data = {    #Concatenación de tuplas\n",
        "  'an_int': 42,\n",
        "  'a_float': 3.14159265,\n",
        "  'a_datetime': now,\n",
        "  'a_datetime_tz': now_tz,\n",
        "}\n",
        "json_data = json.dumps(data, cls=DatetimeEncoder)\n",
        "print(json_data)"
      ]
    },
    {
      "cell_type": "markdown",
      "source": [
        "Ninguno de los resultados se traduce a nulo y aparecen codificador correctamente.\n",
        "\n",
        "La segunda parte del código.."
      ],
      "metadata": {
        "id": "wrYBPf5xn4fX"
      }
    },
    {
      "cell_type": "code",
      "execution_count": 60,
      "metadata": {
        "id": "7zvMffwefjAk"
      },
      "outputs": [],
      "source": [
        "def object_hook(obj):\n",
        "    try:      #Verificamos que los metadatos indiquen que es una fecha y hora\n",
        "        if obj['_meta'] == '_datetime':\n",
        "            if obj['utcoffset'] is None:\n",
        "                tz = None\n",
        "        else:   #Buscamos la información de la zona horaria\n",
        "            tz = timezone(timedelta(seconds=obj['utcoffset']))\n",
        "            #Pasamos la tupla 7 (usando * para descomprimir valores) y la información de la zona horaria\n",
        "        return datetime(*obj['data'], tzinfo=tz)\n",
        "    except KeyError:\n",
        "        return obj    #Recuperando nuetstro objeto original."
      ]
    },
    {
      "cell_type": "markdown",
      "source": [
        "**REALIZAR SOLICITUDES HTTP**\n",
        "Cuando realizamos una solicitud a un sitio web obtenemos un objeto de respuesta, que es, lo que devolvió el servidor contra el que se realizó la solicitud.\n",
        "El cuerpo de algunas respuestas esta codificado en JSON, por lo que en vez de obtener el cuerpo tal como está, se combina (usando resp.text y json.loads()) en un método json()"
      ],
      "metadata": {
        "id": "cknie9GDptQE"
      }
    },
    {
      "cell_type": "code",
      "source": [
        "import requests\n",
        "urls = {    #Declaramos un diccionario de URL contra las que queremos realizar solicitudes HTTP\n",
        "    \"get\": \"https://httpbin.org/get?t=learn+python+programming\",\n",
        "    \"headers\": \"https://httpbin.org/headers\",\n",
        "    \"ip\": \"https://httpbin.org/ip\",\n",
        "    \"user-agent\": \"https://httpbin.org/user-agent\",\n",
        "    \"UUID\": \"https://httpbin.org/uuid\",\n",
        "    \"JSON\": \"https://httpbin.org/json\",\n",
        "}\n",
        "def get_content(title, url):    #Realizamos una solicitud get_content()\n",
        "    resp = requests.get(url)    #Solicitud con request.get()\n",
        "    print(f\"Response for {title}\")    #Imprimimos el titulo\n",
        "    print(resp.json())    #Version codificada JSON del cuerpo de la respuesta\n",
        "for title, url in urls.items():\n",
        "    get_content(title, url)\n",
        "    print(\"-\" * 40)"
      ],
      "metadata": {
        "id": "tksbCS5oqEtl"
      },
      "execution_count": null,
      "outputs": []
    },
    {
      "cell_type": "markdown",
      "source": [
        "***SERIALIZAR DATOS CON PICKLE.***\n",
        "\n",
        "Ofrece herramientas para convertir objetos en flujos de bytes y viceversa."
      ],
      "metadata": {
        "id": "ItWKPzkQsm4-"
      }
    },
    {
      "cell_type": "code",
      "source": [
        "import pickle\n",
        "from dataclasses import dataclass\n",
        "@dataclass\n",
        "class Person:   #Se creo la clase persona usando el decorador dataclases\n",
        "#Atributos de la clase\n",
        "      first_name: str\n",
        "      last_name: str\n",
        "      id: int\n",
        "      #Metodo greet que imprime el mensaje de saludo con datos\n",
        "      def greet(self):\n",
        "            print(f'Hi, I am {self.first_name} {self.last_name}'f' and my ID is {self.id}')\n",
        "#Lista de instancias\n",
        "people = [Person('Obi-Wan', 'Kenobi', 123),\n",
        "          Person('Anakin', 'Skywalker', 456),\n",
        "          ]\n",
        "#Se guarda en un archivo; alimentamos el contenido\n",
        "with open('data.pickle', 'wb') as stream:\n",
        "      pickle.dump(people, stream)\n",
        "# Leemos el mismo archivo\n",
        "with open('data.pickle', 'rb') as stream:\n",
        "      peeps = pickle.load(stream)\n",
        "#Convertir todo elcontenido de la secuencia nuevamente en objetos de Python\n",
        "for person in peeps:\n",
        "      person.greet()"
      ],
      "metadata": {
        "id": "Lyrlp0mNtD9U"
      },
      "execution_count": null,
      "outputs": []
    },
    {
      "cell_type": "markdown",
      "source": [
        "***GUARDAR DATOS EN ESTANTERÍA.***\n",
        "Los valores que se guardan en un estante pueden ser cualquier objeto que se pueda conservar, por lo que no esta retringido."
      ],
      "metadata": {
        "id": "c3-gIr8AuUiZ"
      }
    },
    {
      "cell_type": "code",
      "source": [
        "import shelve\n",
        "class Person:   #Se crea una clase persona simple\n",
        "      def __init__(self, name, id):\n",
        "          self.name = name\n",
        "          self.id = id\n",
        "with shelve.open('shelf1.shelve') as db:    #Se abre un archiv de estantería desntro de un administrador\n",
        "#Se utiliza sintaxis de diccionario para almacenar cuatro instancias; dos de persona, una lista y cadena\n",
        "      db['obi1'] = Person('Obi-Wan', 123)\n",
        "      db['ani'] = Person('Anakin', 456)\n",
        "      db['a_list'] = [2, 3, 5]\n",
        "      db['delete_me'] = 'we will have to delete this one...'\n",
        "#Se imprime y elimina el par clave/valor delet_me\n",
        "      print(list(db.keys()))\n",
        "      del db['delete_me']\n",
        "#Se imprimen las claves nuevamente para mostrar que la eliminación se hizo correctamente\n",
        "      print(list(db.keys()))\n",
        "  #Se prueban un par de claves\n",
        "      print('delete_me' in db)\n",
        "      print('ani' in db)\n",
        "      a_list = db['a_list']\n",
        "      #Se agrega el numero 7 a la lista #Es necesario extraer la lista,modificarla y guardarla nuevamente\n",
        "      a_list.append(7)\n",
        "      db['a_list'] = a_list\n",
        "      print(db['a_list'])"
      ],
      "metadata": {
        "id": "_DC6oaIUujaN"
      },
      "execution_count": null,
      "outputs": []
    },
    {
      "cell_type": "markdown",
      "source": [],
      "metadata": {
        "id": "3M7gFotvu0WA"
      }
    }
  ],
  "metadata": {
    "colab": {
      "provenance": [],
      "authorship_tag": "ABX9TyPnyU4jPgoi7Ye+MhjylHA8",
      "include_colab_link": true
    },
    "kernelspec": {
      "display_name": "Python 3",
      "name": "python3"
    },
    "language_info": {
      "name": "python"
    }
  },
  "nbformat": 4,
  "nbformat_minor": 0
}